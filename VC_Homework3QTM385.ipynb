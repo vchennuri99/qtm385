{
 "cells": [
  {
   "cell_type": "markdown",
   "metadata": {},
   "source": [
    "# QTM 385\n",
    "\n",
    "***\n",
    "\n",
    "## Homework 3\n",
    "\n",
    "Student: [2284423]"
   ]
  },
  {
   "cell_type": "markdown",
   "metadata": {},
   "source": [
    "In this homework, we will do some very elementary text analysis. The idea is to:\n",
    "\n",
    "1. Open a Gutenberg Project Book\n",
    "2. Count how many lines the Book has.\n",
    "3. Count how many words the Book has.\n",
    "\n",
    "The [Project Gutenberg](https://www.gutenberg.org) stores thousands of texts that are free for access, download, and read in your own device. In this homework, we will read the book \"Pride and Prejudice,\" by Jane Austen. In case you want to know more about the book, here is a [Wikipedia entry](https://en.wikipedia.org/wiki/Pride_and_Prejudice) describing it."
   ]
  },
  {
   "cell_type": "markdown",
   "metadata": {},
   "source": [
    "\n",
    "***\n",
    "\n",
    "### Question 1\n",
    "\n",
    "We start by opening the book. The `txt` version of the book is in the following link: https://www.gutenberg.org/files/1342/1342-0.txt\n",
    "\n",
    "To read the text from this URL we will use the function `urlopen` in the module `urllib.request`. Read this [Stackoverflow entry](https://stackoverflow.com/questions/47842388/read-text-files-from-website-with-python), and adapt the code in the first answer to _open the book_, _display the first line_, and then _`break`_."
   ]
  },
  {
   "cell_type": "code",
   "execution_count": 20,
   "metadata": {},
   "outputs": [
    {
     "name": "stdout",
     "output_type": "stream",
     "text": [
      "b'\\xef\\xbb\\xbfThe Project Gutenberg eBook of Pride and Prejudice, by Jane Austen\\r\\n'\n"
     ]
    }
   ],
   "source": [
    "import urllib.request\n",
    "r = urllib.request.urlopen(\"https://www.gutenberg.org/files/1342/1342-0.txt\")\n",
    "for i in range(1):\n",
    "    line = r.readline()\n",
    "    print(line)\n",
    "    break"
   ]
  },
  {
   "cell_type": "markdown",
   "metadata": {},
   "source": [
    "\n",
    "***\n",
    "\n",
    "### Question 2\n",
    "\n",
    "Note that at the beginning and the end of the first line, we have some strange characters (e. g. `\\xef\\xbb\\xbf`). This happens because of the [character encoding](https://en.wikipedia.org/wiki/Character_encoding). To fix this, we need to use `decode('utf-8')`. For instance, check out the following code:"
   ]
  },
  {
   "cell_type": "code",
   "execution_count": 40,
   "metadata": {},
   "outputs": [
    {
     "name": "stdout",
     "output_type": "stream",
     "text": [
      "b'\\xef\\xbb\\xbfThe Project Gutenberg eBook of Pride and Prejudice, by Jane Austen\\r\\n'\n",
      "\n",
      "﻿The Project Gutenberg eBook of Pride and Prejudice, by Jane Austen\r\n",
      "\n"
     ]
    }
   ],
   "source": [
    "# Here is my first line\n",
    "my_line = b'\\xef\\xbb\\xbfThe Project Gutenberg eBook of Pride and Prejudice, by Jane Austen\\r\\n'\n",
    "\n",
    "# My line before decoding\n",
    "print(my_line, end = '\\n\\n')\n",
    "\n",
    "# My line after decoding\n",
    "print(my_line.decode('utf-8'))"
   ]
  },
  {
   "cell_type": "markdown",
   "metadata": {},
   "source": [
    "To fix this problem, we will create a list with all the lines in the book, decoded to use the UTF-8 encoding. Your job, step by step, is to:\n",
    "\n",
    "1. Reopen the book\n",
    "2. Create an empty list\n",
    "3. Use an for-loop to go over each line of the text\n",
    "4. Inside the for-loop, change the encoding of line, and store in the list (hint: you could use `append()` to do this)\n",
    "\n",
    "In the end, display the first line."
   ]
  },
  {
   "cell_type": "code",
   "execution_count": 47,
   "metadata": {},
   "outputs": [
    {
     "name": "stdout",
     "output_type": "stream",
     "text": [
      "﻿The Project Gutenberg eBook of Pride and Prejudice, by Jane Austen\r\n",
      "\n"
     ]
    }
   ],
   "source": [
    "import urllib.request\n",
    "p = urllib.request.urlopen(\"https://www.gutenberg.org/files/1342/1342-0.txt\")\n",
    "\n",
    "new = []\n",
    "for line in p:\n",
    "    d = line.decode('utf-8')\n",
    "    new.append(d) \n",
    "    \n",
    "print(new[0])"
   ]
  },
  {
   "cell_type": "markdown",
   "metadata": {},
   "source": [
    "\n",
    "***\n",
    "\n",
    "### Question 3\n",
    "\n",
    "How many lines the book has?"
   ]
  },
  {
   "cell_type": "code",
   "execution_count": 14,
   "metadata": {},
   "outputs": [
    {
     "name": "stdout",
     "output_type": "stream",
     "text": [
      "14580\n"
     ]
    }
   ],
   "source": [
    "r = urllib.request.urlopen(\"https://www.gutenberg.org/files/1342/1342-0.txt\")\n",
    "count = 0\n",
    "\n",
    "for line in r:\n",
    "    count += 1\n",
    "\n",
    "print(count)"
   ]
  },
  {
   "cell_type": "markdown",
   "metadata": {},
   "source": [
    "\n",
    "***\n",
    "\n",
    "### Question 4\n",
    "\n",
    "Now, to count how many words there is in the book, we need a function that splits a text line into its words. For example, to split the first line:"
   ]
  },
  {
   "cell_type": "code",
   "execution_count": 5,
   "metadata": {},
   "outputs": [
    {
     "name": "stdout",
     "output_type": "stream",
     "text": [
      "['This', 'is', 'my', 'first', 'line']\n"
     ]
    }
   ],
   "source": [
    "# New decoded line:\n",
    "my_first_line = \"This is my first line\"\n",
    "\n",
    "# My splitted line\n",
    "print(my_first_line.split())"
   ]
  },
  {
   "cell_type": "markdown",
   "metadata": {},
   "source": [
    "Split the 385th line of the text, and show how many words it has (hint: python starts counting at zero): "
   ]
  },
  {
   "cell_type": "code",
   "execution_count": 64,
   "metadata": {},
   "outputs": [
    {
     "data": {
      "text/plain": [
       "13"
      ]
     },
     "execution_count": 64,
     "metadata": {},
     "output_type": "execute_result"
    }
   ],
   "source": [
    "split_line = new[384].split()\n",
    "\n",
    "len(split_line)"
   ]
  },
  {
   "cell_type": "markdown",
   "metadata": {},
   "source": [
    "\n",
    "***\n",
    "\n",
    "### Question 5\n",
    "\n",
    "Now, count how many words the book has."
   ]
  },
  {
   "cell_type": "code",
   "execution_count": 67,
   "metadata": {},
   "outputs": [
    {
     "name": "stdout",
     "output_type": "stream",
     "text": [
      "The book has 124743 words.\n"
     ]
    }
   ],
   "source": [
    "num = 0\n",
    "\n",
    "for x in new:\n",
    "    s = x.split()\n",
    "    num += len(s)\n",
    "    \n",
    "print(\"The book has \" + str(num) + \" words.\")"
   ]
  },
  {
   "cell_type": "markdown",
   "metadata": {},
   "source": [
    "**That's all, folks!**"
   ]
  }
 ],
 "metadata": {
  "kernelspec": {
   "display_name": "Python 3",
   "language": "python",
   "name": "python3"
  },
  "language_info": {
   "codemirror_mode": {
    "name": "ipython",
    "version": 3
   },
   "file_extension": ".py",
   "mimetype": "text/x-python",
   "name": "python",
   "nbconvert_exporter": "python",
   "pygments_lexer": "ipython3",
   "version": "3.8.5"
  }
 },
 "nbformat": 4,
 "nbformat_minor": 4
}
